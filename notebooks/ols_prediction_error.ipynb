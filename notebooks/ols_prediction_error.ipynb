{
 "cells": [
  {
   "cell_type": "markdown",
   "metadata": {},
   "source": [
    "# Verify the Error Distribution for Ordinary Least Squares\n",
    "*This notebook verifies the equation for computing the variance of the error distribution for a ordinary least squares prediction*"
   ]
  },
  {
   "cell_type": "markdown",
   "metadata": {},
   "source": [
    "## Import Dependencies"
   ]
  },
  {
   "cell_type": "code",
   "execution_count": 1,
   "metadata": {},
   "outputs": [],
   "source": [
    "import matplotlib.pyplot as plt\n",
    "import numpy as np\n",
    "from sklearn.linear_model import LinearRegression\n",
    "np.random.seed(1)"
   ]
  },
  {
   "cell_type": "markdown",
   "metadata": {},
   "source": [
    "## Set Up Simulation Parameters"
   ]
  },
  {
   "cell_type": "code",
   "execution_count": 2,
   "metadata": {},
   "outputs": [],
   "source": [
    "X = 2*np.random.random_sample((25, 3))-1\n",
    "x_prime = 2*np.random.random_sample(3)-1\n",
    "b = np.array([-2, 1, 0.5])\n",
    "sigma = 0.5"
   ]
  },
  {
   "cell_type": "markdown",
   "metadata": {},
   "source": [
    "## Generate a Prediction Error"
   ]
  },
  {
   "cell_type": "code",
   "execution_count": 3,
   "metadata": {},
   "outputs": [],
   "source": [
    "def generate_prediction_error(X, x_prime, sigma):\n",
    "    y = np.dot(X, b) + np.random.normal(scale=sigma, size=X.shape[0])\n",
    "    model = LinearRegression(fit_intercept=False)\n",
    "    model.fit(X, y)\n",
    "    y_pred = model.predict([x_prime])[0]\n",
    "    y_prime = np.dot(x_prime, b) + np.random.normal(scale=sigma)\n",
    "    return y_prime - y_pred"
   ]
  },
  {
   "cell_type": "markdown",
   "metadata": {},
   "source": [
    "## Generate Simulation Data"
   ]
  },
  {
   "cell_type": "code",
   "execution_count": 4,
   "metadata": {},
   "outputs": [],
   "source": [
    "N = 100000\n",
    "errors = np.array([generate_prediction_error(X, x_prime, sigma) for _ in range(N)])"
   ]
  },
  {
   "cell_type": "markdown",
   "metadata": {},
   "source": [
    "## Compute Running Mean and Variance"
   ]
  },
  {
   "cell_type": "code",
   "execution_count": 5,
   "metadata": {},
   "outputs": [],
   "source": [
    "means = []\n",
    "variances = []\n",
    "total = 0\n",
    "total2 = 0\n",
    "for i, e in enumerate(errors):\n",
    "    total += e\n",
    "    total2 += e*e\n",
    "    means.append(total / (i + 1))\n",
    "    variances.append(total2 / (i + 1))\n",
    "means = np.array(means)\n",
    "variances = np.array(variances)"
   ]
  },
  {
   "cell_type": "markdown",
   "metadata": {},
   "source": [
    "## Compute Expected Variance"
   ]
  },
  {
   "cell_type": "code",
   "execution_count": 6,
   "metadata": {},
   "outputs": [],
   "source": [
    "A = np.linalg.inv(np.dot(X.T, X))\n",
    "expected_error_variance = sigma**2*(1 + np.dot(x_prime, np.dot(A, x_prime)))"
   ]
  },
  {
   "cell_type": "markdown",
   "metadata": {},
   "source": [
    "## Plot the Running Stats"
   ]
  },
  {
   "cell_type": "code",
   "execution_count": 7,
   "metadata": {},
   "outputs": [
    {
     "data": {
      "image/png": "[encoded data removed]",
      "text/plain": [
       "<Figure size 432x288 with 1 Axes>"
      ]
     },
     "metadata": {
      "needs_background": "light"
     },
     "output_type": "display_data"
    },
    {
     "data": {
      "text/plain": [
       "<matplotlib.lines.Line2D at 0x7f070adf3e80>"
      ]
     },
     "execution_count": 7,
     "metadata": {},
     "output_type": "execute_result"
    },
    {
     "data": {
      "image/png": "[encoded data removed]",
      "text/plain": [
       "<Figure size 432x288 with 1 Axes>"
      ]
     },
     "metadata": {
      "needs_background": "light"
     },
     "output_type": "display_data"
    }
   ],
   "source": [
    "x = np.array(range(len(errors))) + 1\n",
    "plt.plot(x, means)\n",
    "plt.axhline(y=0, c='r')\n",
    "plt.show()\n",
    "plt.plot(x, variances)\n",
    "plt.axhline(y=expected_error_variance, c='r')"
   ]
  }
 ],
 "metadata": {
  "kernelspec": {
   "display_name": "Python 3",
   "language": "python",
   "name": "python3"
  },
  "language_info": {
   "codemirror_mode": {
    "name": "ipython",
    "version": 3
   },
   "file_extension": ".py",
   "mimetype": "text/x-python",
   "name": "python",
   "nbconvert_exporter": "python",
   "pygments_lexer": "ipython3",
   "version": "3.7.3"
  }
 },
 "nbformat": 4,
 "nbformat_minor": 4
}
