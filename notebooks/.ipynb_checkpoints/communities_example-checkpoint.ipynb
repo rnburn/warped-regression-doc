{
 "cells": [
  {
   "cell_type": "markdown",
   "metadata": {},
   "source": [
    "## Import Dependencies"
   ]
  },
  {
   "cell_type": "code",
   "execution_count": 42,
   "metadata": {},
   "outputs": [],
   "source": [
    "import pandas as pd\n",
    "import numpy as np\n",
    "import math\n",
    "import matplotlib.pyplot as plt\n",
    "from scipy.optimize import root_scalar\n",
    "from sklearn.preprocessing import StandardScaler\n",
    "from sklearn.linear_model import LinearRegression"
   ]
  },
  {
   "cell_type": "markdown",
   "metadata": {},
   "source": [
    "## Load Data"
   ]
  },
  {
   "cell_type": "code",
   "execution_count": 18,
   "metadata": {},
   "outputs": [],
   "source": [
    "def drop_missing(df):\n",
    "    drop_columns = []\n",
    "    for column in df.columns:\n",
    "        if '?' in list(df[column].values):\n",
    "            drop_columns.append(column)\n",
    "    return df.drop(columns=drop_columns)"
   ]
  },
  {
   "cell_type": "code",
   "execution_count": 21,
   "metadata": {},
   "outputs": [],
   "source": [
    "def load_dataset(filename):\n",
    "    df = pd.read_csv(filename, header=None)\n",
    "    df = df.drop(range(5), axis=1)\n",
    "    df = drop_missing(df)\n",
    "    X = np.array(df.iloc[:,:-1].values, dtype=float)\n",
    "    y = np.array(df.iloc[:,-1].values, dtype=float)\n",
    "    return X, y"
   ]
  },
  {
   "cell_type": "code",
   "execution_count": 26,
   "metadata": {},
   "outputs": [],
   "source": [
    "X, y = load_dataset(\"communities.data\")\n",
    "X = StandardScaler().fit_transform(X)"
   ]
  },
  {
   "cell_type": "code",
   "execution_count": 29,
   "metadata": {},
   "outputs": [],
   "source": [
    "parameters = [4.56316871e+01, 8.45220300e+00, 9.95727132e-02]"
   ]
  },
  {
   "cell_type": "code",
   "execution_count": 30,
   "metadata": {},
   "outputs": [],
   "source": [
    "y_range = np.arange(np.min(y), np.max(y), 0.0001)"
   ]
  },
  {
   "cell_type": "markdown",
   "metadata": {},
   "source": [
    "## Decorator for Vector Functions"
   ]
  },
  {
   "cell_type": "code",
   "execution_count": 27,
   "metadata": {},
   "outputs": [],
   "source": [
    "def vectorizable(f):\n",
    "    def f_(x):\n",
    "        if hasattr(x, '__iter__'):\n",
    "            return np.array([f(xi) for xi in x])\n",
    "        return f(x)\n",
    "    return f_"
   ]
  },
  {
   "cell_type": "markdown",
   "metadata": {},
   "source": [
    "## Build Warping Function"
   ]
  },
  {
   "cell_type": "code",
   "execution_count": 28,
   "metadata": {},
   "outputs": [],
   "source": [
    "def make_warper(parameters, y):\n",
    "    y_mean = np.mean(y)\n",
    "    y_std = np.std(y)\n",
    "    def f(t):\n",
    "        t = (t - y_mean) / (y_std * np.sqrt(len(y)))\n",
    "        result = t\n",
    "        for i in range(0, len(parameters), 3):\n",
    "            a, b, c = parameters[i:(i+3)]\n",
    "            result += a**2*math.tanh(b**2*(t + c))\n",
    "        return result\n",
    "    mean = np.mean([f(yi) for yi in y])\n",
    "    @vectorizable\n",
    "    def f_(t):\n",
    "        return f(t) - mean\n",
    "    @vectorizable\n",
    "    def fp(t):\n",
    "        t = (t - y_mean) / (y_std * np.sqrt(len(y)))\n",
    "        result = 1.0\n",
    "        for i in range(0, len(parameters), 3):\n",
    "            a, b, c = parameters[i:(i+3)]\n",
    "            u = math.tanh(b**2*(t + c))\n",
    "            result += a**2*b**2*(1 - u**2)\n",
    "        result /= y_std * np.sqrt(len(y))\n",
    "        return result\n",
    "    return f_, fp"
   ]
  },
  {
   "cell_type": "code",
   "execution_count": 35,
   "metadata": {},
   "outputs": [
    {
     "data": {
      "image/png": "[encoded data removed]",
      "text/plain": [
       "<Figure size 432x288 with 1 Axes>"
      ]
     },
     "metadata": {
      "needs_background": "light"
     },
     "output_type": "display_data"
    },
    {
     "data": {
      "text/plain": [
       "[<matplotlib.lines.Line2D at 0x1a26e47e10>]"
      ]
     },
     "execution_count": 35,
     "metadata": {},
     "output_type": "execute_result"
    },
    {
     "data": {
      "image/png": "[encoded data removed]",
      "text/plain": [
       "<Figure size 432x288 with 1 Axes>"
      ]
     },
     "metadata": {
      "needs_background": "light"
     },
     "output_type": "display_data"
    }
   ],
   "source": [
    "f, fp = make_warper(parameters, y)\n",
    "plt.plot(y_range, f(y_range))\n",
    "plt.show()\n",
    "plt.plot(y_range, fp(y_range))"
   ]
  },
  {
   "cell_type": "markdown",
   "metadata": {},
   "source": [
    "## Compute Noise Stddev"
   ]
  },
  {
   "cell_type": "code",
   "execution_count": 51,
   "metadata": {},
   "outputs": [],
   "source": [
    "def compute_noise_stddev(X, y, phi):\n",
    "    f, fp = make_warper(phi, y)\n",
    "    z = f(y)\n",
    "    model = LinearRegression(fit_intercept=False)\n",
    "    model.fit(X, z)\n",
    "    z_pred = model.predict(X)\n",
    "    rss = sum((z - z_pred)**2)\n",
    "    return np.sqrt(rss / len(y))"
   ]
  },
  {
   "cell_type": "code",
   "execution_count": 52,
   "metadata": {},
   "outputs": [],
   "source": [
    "noise_stddev = compute_noise_stddev(X, y, parameters)"
   ]
  },
  {
   "cell_type": "markdown",
   "metadata": {},
   "source": [
    "## Compute Log-Likelihood Proxy of Training Data"
   ]
  },
  {
   "cell_type": "code",
   "execution_count": 36,
   "metadata": {},
   "outputs": [],
   "source": [
    "def compute_log_likelihood_proxy(X, y, phi):\n",
    "    f, fp = make_warper(phi, y)\n",
    "    z = f(y)\n",
    "    model = LinearRegression(fit_intercept=False)\n",
    "    model.fit(X, z)\n",
    "    z_pred = model.predict(X)\n",
    "    rss = sum((z-z_pred)**2)\n",
    "    return -len(y)/2*np.log(rss) + sum(np.log(fp(y)))"
   ]
  },
  {
   "cell_type": "code",
   "execution_count": 39,
   "metadata": {},
   "outputs": [
    {
     "name": "stdout",
     "output_type": "stream",
     "text": [
      "-3489.9892999776175\n",
      "-2624.9579252356953\n"
     ]
    }
   ],
   "source": [
    "print(compute_log_likelihood_proxy(X, y, []))\n",
    "print(compute_log_likelihood_proxy(X, y, parameters))"
   ]
  },
  {
   "cell_type": "markdown",
   "metadata": {},
   "source": [
    "## Verify Maximum"
   ]
  },
  {
   "cell_type": "code",
   "execution_count": 40,
   "metadata": {},
   "outputs": [],
   "source": [
    "def verify_log_likelihood_opt(X, y, phi):\n",
    "    delta_x = 1.0e-3\n",
    "    for i, phi_i in enumerate(phi):\n",
    "        def f(x):\n",
    "            phi_copy = np.array(phi)\n",
    "            phi_copy[i] = x\n",
    "            return compute_log_likelihood_proxy(X, y, phi_copy)\n",
    "        f0 = f(phi_i)\n",
    "        for x in [phi_i - delta_x, phi_i + delta_x]:\n",
    "            delta_f = f(x) - f0\n",
    "            relative_delta_f = delta_f / delta_x\n",
    "            if relative_delta_f > 0 and np.abs(relative_delta_f) > 1.0e-3:\n",
    "                print(i, x, \"\\t\", delta_f, relative_delta_f)\n",
    "                assert False, \"Can't verify optimum\""
   ]
  },
  {
   "cell_type": "code",
   "execution_count": 41,
   "metadata": {},
   "outputs": [],
   "source": [
    "verify_log_likelihood_opt(X, y, parameters)"
   ]
  },
  {
   "cell_type": "markdown",
   "metadata": {},
   "source": [
    "## Invert Warping"
   ]
  },
  {
   "cell_type": "code",
   "execution_count": 43,
   "metadata": {},
   "outputs": [],
   "source": [
    "def make_inverse(f):\n",
    "    @vectorizable\n",
    "    def f_inv(z):\n",
    "        result = root_scalar(\n",
    "            lambda x: f(x) - z, \n",
    "            fprime = fp,\n",
    "            x0=(np.min(y) + np.max(y)) / 2, \n",
    "            method='newton')\n",
    "        return result.root\n",
    "    return f_inv"
   ]
  },
  {
   "cell_type": "code",
   "execution_count": 44,
   "metadata": {},
   "outputs": [
    {
     "data": {
      "text/plain": [
       "1.106879057268443"
      ]
     },
     "execution_count": 44,
     "metadata": {},
     "output_type": "execute_result"
    }
   ],
   "source": [
    "f_inv = make_inverse(f)\n",
    "f_inv(0.1)"
   ]
  },
  {
   "cell_type": "markdown",
   "metadata": {},
   "source": [
    "## Plot Error Distribution"
   ]
  },
  {
   "cell_type": "code",
   "execution_count": 54,
   "metadata": {},
   "outputs": [
    {
     "data": {
      "text/plain": [
       "[<matplotlib.lines.Line2D at 0x1a29c9aed0>]"
      ]
     },
     "execution_count": 54,
     "metadata": {},
     "output_type": "execute_result"
    },
    {
     "data": {
      "image/png": "[encoded data removed]",
      "text/plain": [
       "<Figure size 432x288 with 1 Axes>"
      ]
     },
     "metadata": {
      "needs_background": "light"
     },
     "output_type": "display_data"
    }
   ],
   "source": [
    "plt.plot(y_range, f_inv(f(y_range)-noise_stddev)-y_range, color='b')\n",
    "plt.plot(y_range, f_inv(f(y_range)+noise_stddev)-y_range, color='b')"
   ]
  },
  {
   "cell_type": "code",
   "execution_count": null,
   "metadata": {},
   "outputs": [],
   "source": []
  }
 ],
 "metadata": {
  "kernelspec": {
   "display_name": "Python 3",
   "language": "python",
   "name": "python3"
  },
  "language_info": {
   "codemirror_mode": {
    "name": "ipython",
    "version": 3
   },
   "file_extension": ".py",
   "mimetype": "text/x-python",
   "name": "python",
   "nbconvert_exporter": "python",
   "pygments_lexer": "ipython3",
   "version": "3.7.4"
  }
 },
 "nbformat": 4,
 "nbformat_minor": 2
}
