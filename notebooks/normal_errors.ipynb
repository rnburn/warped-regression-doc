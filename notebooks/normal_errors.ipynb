{
 "cells": [
  {
   "cell_type": "markdown",
   "metadata": {},
   "source": [
    "# Demonstrate How a Normal Distribution Can Occur Naturally\n",
    "*This notebook shows how error terms that break down as sums of non-normal random variables can be normally distributed.*"
   ]
  },
  {
   "cell_type": "markdown",
   "metadata": {},
   "source": [
    "## Import Dependencies"
   ]
  },
  {
   "cell_type": "code",
   "execution_count": 1,
   "metadata": {},
   "outputs": [],
   "source": [
    "import matplotlib.pyplot as plt\n",
    "import numpy as np\n",
    "from sklearn.datasets import load_boston\n",
    "from sklearn.linear_model import LinearRegression\n",
    "from scipy.stats import norm\n",
    "from scipy.optimize import root_scalar\n",
    "from numpy.polynomial.hermite import hermgauss\n",
    "from collections import defaultdict\n",
    "np.random.seed(1)"
   ]
  },
  {
   "cell_type": "markdown",
   "metadata": {},
   "source": [
    "## Decorator for Vector Functions"
   ]
  },
  {
   "cell_type": "code",
   "execution_count": 2,
   "metadata": {},
   "outputs": [],
   "source": [
    "def vectorizable(f):\n",
    "    def f_(x):\n",
    "        if hasattr(x, '__iter__'):\n",
    "            return np.array([f(xi) for xi in x])\n",
    "        return f(x)\n",
    "    return f_"
   ]
  },
  {
   "cell_type": "markdown",
   "metadata": {},
   "source": [
    "## Build a Non-Normal Distribution"
   ]
  },
  {
   "cell_type": "markdown",
   "metadata": {},
   "source": [
    "First, we'll make a cubic spline that gradually transitions between two different linear functions with different slopes."
   ]
  },
  {
   "cell_type": "code",
   "execution_count": 3,
   "metadata": {},
   "outputs": [],
   "source": [
    "def compute_spline(fpa, fpb, delta):\n",
    "    mid = delta / 2\n",
    "    fpmid = (fpb + fpa) / 2\n",
    "    b1 = fpa\n",
    "    d1 = (fpmid - b1)/(3*mid**2)\n",
    "    \n",
    "    def q1(x):\n",
    "        return b1*x + d1*x**3\n",
    "    def q1p(x):\n",
    "        return b1 + 3*d1*x**2\n",
    "\n",
    "    qmid = q1(mid)\n",
    "    \n",
    "    b2 = fpb\n",
    "    d2 = (fpmid - b2) / (3*mid**2)\n",
    "    a2 = qmid + b2*mid + d2*mid**3\n",
    "    \n",
    "    def q2(x):\n",
    "        return a2 + b2*(x - delta) + d2*(x - delta)**3\n",
    "    def q2p(x):\n",
    "        return b2 + 3*d2*(x - delta)**2\n",
    "    \n",
    "    def q(x):\n",
    "        if x < mid:\n",
    "            return q1(x)\n",
    "        return q2(x)\n",
    "    def qp(x):\n",
    "        if x < mid:\n",
    "            return q1p(x)\n",
    "        return q2p(x)\n",
    "    return q, qp"
   ]
  },
  {
   "cell_type": "markdown",
   "metadata": {},
   "source": [
    "Second, we'll use the cubic splines to construct a function that transitions between multiple different linear functions."
   ]
  },
  {
   "cell_type": "code",
   "execution_count": 4,
   "metadata": {},
   "outputs": [],
   "source": [
    "def make_warp(descriptor, delta=0.5):\n",
    "    slope = descriptor[0]\n",
    "    rest = descriptor[1:]\n",
    "    if not rest:\n",
    "        return lambda x: x*slope, lambda x: slope\n",
    "    z, rslope = rest[0]\n",
    "    r, rp = make_warp([rslope] + rest[1:], delta)\n",
    "    c = (rslope - slope) / (2 * delta)\n",
    "    intercept = slope*z + c*delta - r(z)\n",
    "    q, qp = compute_spline(slope, rslope, delta)\n",
    "    @vectorizable\n",
    "    def f(x):\n",
    "        if x < z - delta:\n",
    "            return slope * x\n",
    "        if x > z:\n",
    "            return r(x) + intercept\n",
    "        return q(x - (z-delta))+slope*(z - delta)\n",
    "    @vectorizable\n",
    "    def fp(x):\n",
    "        if x < z - delta:\n",
    "            return slope\n",
    "        if x > z:\n",
    "            return rp(x)\n",
    "        return qp(x - (z-delta))\n",
    "    return f, fp"
   ]
  },
  {
   "cell_type": "markdown",
   "metadata": {},
   "source": [
    "## Make a Non-Normal Base Distribution"
   ]
  },
  {
   "cell_type": "code",
   "execution_count": 5,
   "metadata": {},
   "outputs": [],
   "source": [
    "f, fp = make_warp([0.25, (-1.5, 1), (-0.25, 5)], 1)"
   ]
  },
  {
   "cell_type": "code",
   "execution_count": 6,
   "metadata": {},
   "outputs": [
    {
     "data": {
      "image/png": "[encoded data removed]",
      "text/plain": [
       "<Figure size 432x288 with 1 Axes>"
      ]
     },
     "metadata": {
      "needs_background": "light"
     },
     "output_type": "display_data"
    },
    {
     "data": {
      "image/png": "[encoded data removed]",
      "text/plain": [
       "<Figure size 432x288 with 1 Axes>"
      ]
     },
     "metadata": {
      "needs_background": "light"
     },
     "output_type": "display_data"
    },
    {
     "data": {
      "image/png": "[encoded data removed]",
      "text/plain": [
       "<Figure size 432x288 with 1 Axes>"
      ]
     },
     "metadata": {
      "needs_background": "light"
     },
     "output_type": "display_data"
    }
   ],
   "source": [
    "x = np.arange(-10, 10, .0001)\n",
    "plt.plot(x, f(x))\n",
    "plt.show()\n",
    "plt.plot(x, fp(x))\n",
    "plt.show()\n",
    "plt.plot(x, norm.pdf(f(x))*fp(x))\n",
    "plt.show()"
   ]
  },
  {
   "cell_type": "markdown",
   "metadata": {},
   "source": [
    "## Invert Warping Function"
   ]
  },
  {
   "cell_type": "code",
   "execution_count": 7,
   "metadata": {},
   "outputs": [],
   "source": [
    "def invert(f, z):\n",
    "    result = root_scalar(lambda x: f(x) - z, x0=z, x1=z+1)\n",
    "    return result.root"
   ]
  },
  {
   "cell_type": "markdown",
   "metadata": {},
   "source": [
    "## Compute Moments of Base Distribution"
   ]
  },
  {
   "cell_type": "code",
   "execution_count": 8,
   "metadata": {},
   "outputs": [],
   "source": [
    "def compute_moment(f, p=1):\n",
    "    zx, wx = hermgauss(50)\n",
    "    c = np.sqrt(2)\n",
    "    f_inv = lambda z: invert(f, c*z)**p\n",
    "    result = sum([f_inv(z)*w for z, w in zip(zx, wx)])\n",
    "    result *= c / np.sqrt(2*np.pi)\n",
    "    return result"
   ]
  },
  {
   "cell_type": "code",
   "execution_count": 9,
   "metadata": {},
   "outputs": [],
   "source": [
    "def compute_stddev(f):\n",
    "    mean = compute_moment(f)\n",
    "    moment2 = compute_moment(f, 2)\n",
    "    return moment2 - mean**2"
   ]
  },
  {
   "cell_type": "code",
   "execution_count": 10,
   "metadata": {},
   "outputs": [
    {
     "name": "stdout",
     "output_type": "stream",
     "text": [
      "1.0 \t -2.226769149373234 \t 3.90479258921163\n"
     ]
    }
   ],
   "source": [
    "f_volume = compute_moment(f, 0)\n",
    "f_mean = compute_moment(f, 1)\n",
    "f_stddev = compute_stddev(f)\n",
    "print(f_volume, \"\\t\", f_mean, \"\\t\", f_stddev)"
   ]
  },
  {
   "cell_type": "code",
   "execution_count": 11,
   "metadata": {},
   "outputs": [
    {
     "data": {
      "text/plain": [
       "[<matplotlib.lines.Line2D at 0x7f3923b9c8d0>]"
      ]
     },
     "execution_count": 11,
     "metadata": {},
     "output_type": "execute_result"
    },
    {
     "data": {
      "image/png": "[encoded data removed]",
      "text/plain": [
       "<Figure size 432x288 with 1 Axes>"
      ]
     },
     "metadata": {
      "needs_background": "light"
     },
     "output_type": "display_data"
    }
   ],
   "source": [
    "x = np.arange(-10, 10, .0001)\n",
    "plt.plot(x, norm.pdf(f(x+f_mean))*fp(x+f_mean))"
   ]
  },
  {
   "cell_type": "markdown",
   "metadata": {},
   "source": [
    "## Sample From Base Distribution"
   ]
  },
  {
   "cell_type": "code",
   "execution_count": 12,
   "metadata": {},
   "outputs": [],
   "source": [
    "def sample(f, n):\n",
    "    mean = compute_moment(f)\n",
    "    zs = np.random.normal(size=n)\n",
    "    result = np.array([invert(f, z) for z in zs])\n",
    "    return result"
   ]
  },
  {
   "cell_type": "markdown",
   "metadata": {},
   "source": [
    "## Compute the Histogram for a Normal Distribution"
   ]
  },
  {
   "cell_type": "code",
   "execution_count": 13,
   "metadata": {},
   "outputs": [],
   "source": [
    "def compute_normal_histogram(stddev, bin_size):\n",
    "    a = -3*stddev\n",
    "    b = 3*stddev\n",
    "    a = np.floor(a / bin_size)*bin_size\n",
    "    b = np.ceil(b / bin_size)*bin_size\n",
    "    num_bins = int(np.rint((b - a) / bin_size))\n",
    "    bins = np.array(range(num_bins+1))*bin_size + a\n",
    "    weights = np.zeros(num_bins)\n",
    "    for i in range(num_bins):\n",
    "        t = a + bin_size*i\n",
    "        weights[i] = norm.cdf(t + bin_size, scale=stddev) - norm.cdf(t, scale=stddev)\n",
    "    return bins, weights"
   ]
  },
  {
   "cell_type": "code",
   "execution_count": 14,
   "metadata": {},
   "outputs": [],
   "source": [
    "def plot_normal_histogram(stddev, bin_size):\n",
    "    bins, weights = compute_normal_histogram(stddev, bin_size)\n",
    "    plt.hist(bins[:-1], bins, weights=weights)"
   ]
  },
  {
   "cell_type": "code",
   "execution_count": 15,
   "metadata": {},
   "outputs": [
    {
     "data": {
      "image/png": "[encoded data removed]",
      "text/plain": [
       "<Figure size 432x288 with 1 Axes>"
      ]
     },
     "metadata": {
      "needs_background": "light"
     },
     "output_type": "display_data"
    }
   ],
   "source": [
    "plot_normal_histogram(1.0, 0.025)"
   ]
  },
  {
   "cell_type": "markdown",
   "metadata": {},
   "source": [
    "## Plot a Histogram With Normal Overlay"
   ]
  },
  {
   "cell_type": "code",
   "execution_count": 16,
   "metadata": {},
   "outputs": [],
   "source": [
    "def plot_histogram(xs, bin_size, normal_stddev=None, plot=plt):\n",
    "    a = np.min(xs)\n",
    "    b = np.max(xs)\n",
    "    a = np.floor(a / bin_size)*bin_size\n",
    "    b = np.ceil(b / bin_size)*bin_size\n",
    "    num_bins = int(np.rint((b - a) / bin_size))\n",
    "    alpha = 1.0\n",
    "    if normal_stddev:\n",
    "        alpha = 0.5\n",
    "        bins, weights = compute_normal_histogram(normal_stddev, bin_size)\n",
    "        plot.hist(bins[:-1], bins, weights=weights, alpha=alpha, density=True)\n",
    "    plot.hist(xs, bins=num_bins, range=(a, b), alpha=alpha, density=True)"
   ]
  },
  {
   "cell_type": "markdown",
   "metadata": {},
   "source": [
    "## Compute Least Squares Errors"
   ]
  },
  {
   "cell_type": "code",
   "execution_count": 17,
   "metadata": {},
   "outputs": [],
   "source": [
    "def compute_target(X, b, f, p):\n",
    "    n = X.shape[0]\n",
    "    mean = compute_moment(f)\n",
    "    stddev = compute_stddev(f)\n",
    "    e = np.zeros(n)\n",
    "    for _ in range(p):\n",
    "        ei = sample(f, n)\n",
    "        e += (ei - mean)\n",
    "    e /= (np.sqrt(p) * stddev)\n",
    "    return np.dot(X, b) + e"
   ]
  },
  {
   "cell_type": "code",
   "execution_count": 18,
   "metadata": {},
   "outputs": [],
   "source": [
    "def compute_least_squares_errors(X_train, X_test, b, f, p):\n",
    "    y_train = compute_target(X_train, b, f, p)\n",
    "    y_test = compute_target(X_test, b, f, p)\n",
    "    model = LinearRegression(fit_intercept=False)\n",
    "    model.fit(X_train, y_train)\n",
    "    y_train_pred = model.predict(X_train)\n",
    "    rss = np.sum((y_train - y_train_pred)**2)\n",
    "    noise_var = rss / (X_train.shape[0] - X_train.shape[1])\n",
    "    y_test_pred = model.predict(X_test)\n",
    "    return (y_test - y_test_pred), np.sqrt(noise_var)"
   ]
  },
  {
   "cell_type": "markdown",
   "metadata": {},
   "source": [
    "## Compute Some Error Distributions"
   ]
  },
  {
   "cell_type": "code",
   "execution_count": 19,
   "metadata": {},
   "outputs": [],
   "source": [
    "N = 20000\n",
    "b = np.array([-2, 3])\n",
    "X_train = np.random.uniform(-1, 1, size=(N, len(b)))\n",
    "X_test = np.random.uniform(-1, 1, size=(N, len(b)))"
   ]
  },
  {
   "cell_type": "code",
   "execution_count": 20,
   "metadata": {},
   "outputs": [],
   "source": [
    "num_error_terms = [1, 2, 5, 25]\n",
    "error_data = []\n",
    "for m in num_error_terms:\n",
    "    error_data.append(compute_least_squares_errors(X_train, X_test, b, f, m))"
   ]
  },
  {
   "cell_type": "code",
   "execution_count": 21,
   "metadata": {},
   "outputs": [
    {
     "data": {
      "image/png": "[encoded data removed]",
      "text/plain": [
       "<Figure size 432x288 with 4 Axes>"
      ]
     },
     "metadata": {
      "needs_background": "light"
     },
     "output_type": "display_data"
    }
   ],
   "source": [
    "fig, plots = plt.subplots(nrows=2, ncols=2)\n",
    "index = 0\n",
    "for i in range(2):\n",
    "    for j in range(2):\n",
    "        plot = plots[i, j]\n",
    "        m = num_error_terms[index]\n",
    "        errs, noise_stddev = error_data[index]\n",
    "        plot_histogram(errs, 0.025, noise_stddev, plot)\n",
    "        plot.set_title('m = %d' % m)\n",
    "        index += 1\n",
    "fig.tight_layout()"
   ]
  }
 ],
 "metadata": {
  "kernelspec": {
   "display_name": "Python 3",
   "language": "python",
   "name": "python3"
  },
  "language_info": {
   "codemirror_mode": {
    "name": "ipython",
    "version": 3
   },
   "file_extension": ".py",
   "mimetype": "text/x-python",
   "name": "python",
   "nbconvert_exporter": "python",
   "pygments_lexer": "ipython3",
   "version": "3.7.3"
  }
 },
 "nbformat": 4,
 "nbformat_minor": 4
}
