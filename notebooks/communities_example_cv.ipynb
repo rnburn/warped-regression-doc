{
 "cells": [
  {
   "cell_type": "markdown",
   "metadata": {},
   "source": [
    "# Communities and Crime Cross-Validation\n",
    "Data is taken from [UCI Machine Learning Repository](https://archive.ics.uci.edu/ml/datasets/Communities+and+Crime).\n",
    "> U. S. Department of Commerce, Bureau of the Census, Census Of Population And Housing 1990 United States: Summary Tape File 1a & 3a (Computer Files),\n",
    ">\n",
    "> U.S. Department Of Commerce, Bureau Of The Census Producer, Washington, DC and Inter-university Consortium for Political and Social Research Ann Arbor, Michigan. (1992)\n",
    ">\n",
    "> U.S. Department of Justice, Bureau of Justice Statistics, Law Enforcement Management And Administrative Statistics (Computer File) U.S. Department Of Commerce, Bureau Of The Census Producer, Washington, DC and Inter-university Consortium for Political and Social Research Ann Arbor, Michigan. (1992)\n",
    ">\n",
    "> U.S. Department of Justice, Federal Bureau of Investigation, Crime in the United States (Computer File) (1995)\n",
    ">\n",
    "> Redmond, M. A. and A. Baveja: A Data-Driven Software Tool for Enabling Cooperative Information Sharing Among Police Departments. European Journal of Operational Research 141 (2002) 660-678.\n",
    "\n",
    "*This notebook compares the performance of warped linear regression to ordinary least squares on a cross-validation of the data.*"
   ]
  },
  {
   "cell_type": "markdown",
   "metadata": {},
   "source": [
    "## Import Dependencies"
   ]
  },
  {
   "cell_type": "code",
   "execution_count": 31,
   "metadata": {},
   "outputs": [],
   "source": [
    "import matplotlib.pyplot as plt\n",
    "import numpy as np\n",
    "import pandas as pd\n",
    "import math\n",
    "from scipy.stats import norm\n",
    "from sklearn.linear_model import LinearRegression\n",
    "from sklearn.preprocessing import StandardScaler\n",
    "from sklearn.model_selection import KFold\n",
    "np.random.seed(1)"
   ]
  },
  {
   "cell_type": "markdown",
   "metadata": {},
   "source": [
    "## Load Data"
   ]
  },
  {
   "cell_type": "code",
   "execution_count": 2,
   "metadata": {},
   "outputs": [],
   "source": [
    "def drop_missing(df):\n",
    "    drop_columns = []\n",
    "    for column in df.columns:\n",
    "        if '?' in list(df[column].values):\n",
    "            drop_columns.append(column)\n",
    "    return df.drop(columns=drop_columns)"
   ]
  },
  {
   "cell_type": "code",
   "execution_count": 3,
   "metadata": {},
   "outputs": [],
   "source": [
    "def load_dataset(filename):\n",
    "    df = pd.read_csv(filename, header=None)\n",
    "    df = df.drop(range(5), axis=1)\n",
    "    df = drop_missing(df)\n",
    "    X = np.array(df.iloc[:,:-1].values, dtype=float)\n",
    "    y = np.array(df.iloc[:,-1].values, dtype=float)\n",
    "    return X, y"
   ]
  },
  {
   "cell_type": "code",
   "execution_count": 13,
   "metadata": {},
   "outputs": [],
   "source": [
    "X, y = load_dataset(\"communities.data\")\n",
    "X = StandardScaler().fit_transform(X)"
   ]
  },
  {
   "cell_type": "markdown",
   "metadata": {},
   "source": [
    "## Set up Cross-Validation Splits"
   ]
  },
  {
   "cell_type": "code",
   "execution_count": 7,
   "metadata": {},
   "outputs": [],
   "source": [
    "cv_splits = list(KFold(10, shuffle=True).split(X))"
   ]
  },
  {
   "cell_type": "markdown",
   "metadata": {},
   "source": [
    "## Set Warping Parameters\n",
    "The warping parameters were fit to maximize the log-likelihood of the training data for each cross-validation using a second order optimizer."
   ]
  },
  {
   "cell_type": "code",
   "execution_count": 17,
   "metadata": {},
   "outputs": [],
   "source": [
    "warping_parameters = np.array([\n",
    "    [2.45539788e+02, 8.21200550e+00, 1.29687713e-01], \n",
    "    [2.20807880e+02, 8.18124658e+00, 1.29775771e-01], \n",
    "    [2.47853763e+02, 8.33731224e+00, 1.26915050e-01], \n",
    "    [2.37965788e+02, 8.22328782e+00, 1.28942838e-01], \n",
    "    [2.26799485e+02, 8.24759809e+00, 1.27894342e-01], \n",
    "    [2.50334254e+02, 8.11527398e+00, 1.32680489e-01], \n",
    "    [2.30428371e+02, 8.34087828e+00, 1.25444850e-01], \n",
    "    [-2.48123866e+02,  8.17254228e+00,  1.31001290e-01], \n",
    "    [2.29218765e+02, 8.16332304e+00, 1.30279786e-01], \n",
    "    [2.21048428e+02, 8.34043339e+00, 1.25391233e-01]])"
   ]
  },
  {
   "cell_type": "markdown",
   "metadata": {},
   "source": [
    "## Decorator for Vector Functions"
   ]
  },
  {
   "cell_type": "code",
   "execution_count": 18,
   "metadata": {},
   "outputs": [],
   "source": [
    "def vectorizable(f):\n",
    "    def f_(x):\n",
    "        if hasattr(x, '__iter__'):\n",
    "            return np.array([f(xi) for xi in x])\n",
    "        return f(x)\n",
    "    return f_"
   ]
  },
  {
   "cell_type": "markdown",
   "metadata": {},
   "source": [
    "## Build Warping Function"
   ]
  },
  {
   "cell_type": "code",
   "execution_count": 19,
   "metadata": {},
   "outputs": [],
   "source": [
    "def make_warper(parameters, y):\n",
    "    y_mean = np.mean(y)\n",
    "    y_std = np.std(y)\n",
    "    def f(t):\n",
    "        t = (t - y_mean) / (y_std * np.sqrt(len(y)))\n",
    "        result = t\n",
    "        for i in range(0, len(parameters), 3):\n",
    "            a, b, c = parameters[i:(i+3)]\n",
    "            result += a**2*math.tanh(b**2*(t + c))\n",
    "        return result\n",
    "    mean = np.mean([f(yi) for yi in y])\n",
    "    @vectorizable\n",
    "    def f_(t):\n",
    "        return f(t) - mean\n",
    "    @vectorizable\n",
    "    def fp(t):\n",
    "        t = (t - y_mean) / (y_std * np.sqrt(len(y)))\n",
    "        result = 1.0\n",
    "        for i in range(0, len(parameters), 3):\n",
    "            a, b, c = parameters[i:(i+3)]\n",
    "            u = math.tanh(b**2*(t + c))\n",
    "            result += a**2*b**2*(1 - u**2)\n",
    "        result /= y_std * np.sqrt(len(y))\n",
    "        return result\n",
    "    return f_, fp"
   ]
  },
  {
   "cell_type": "markdown",
   "metadata": {},
   "source": [
    "## Compute Log-Likelihood Proxy of Training Data"
   ]
  },
  {
   "cell_type": "code",
   "execution_count": 20,
   "metadata": {},
   "outputs": [],
   "source": [
    "def compute_log_likelihood_proxy(X, y, phi):\n",
    "    f, fp = make_warper(phi, y)\n",
    "    z = f(y)\n",
    "    model = LinearRegression(fit_intercept=False)\n",
    "    model.fit(X, z)\n",
    "    z_pred = model.predict(X)\n",
    "    rss = sum((z-z_pred)**2)\n",
    "    return -len(y)/2*np.log(rss) + sum(np.log(fp(y)))"
   ]
  },
  {
   "cell_type": "markdown",
   "metadata": {},
   "source": [
    "## Verify Maximums\n",
    "Tweak the warping parameters to verify they're a local maximum of the log-likelihood."
   ]
  },
  {
   "cell_type": "code",
   "execution_count": 21,
   "metadata": {},
   "outputs": [],
   "source": [
    "def verify_log_likelihood_opt(X, y, phi):\n",
    "    delta_x = 1.0e-3\n",
    "    for i, phi_i in enumerate(phi):\n",
    "        def f(x):\n",
    "            phi_copy = np.array(phi)\n",
    "            phi_copy[i] = x\n",
    "            return compute_log_likelihood_proxy(X, y, phi_copy)\n",
    "        f0 = f(phi_i)\n",
    "        for x in [phi_i - delta_x, phi_i + delta_x]:\n",
    "            delta_f = f(x) - f0\n",
    "            relative_delta_f = delta_f / delta_x\n",
    "            if relative_delta_f > 0 and np.abs(relative_delta_f) > 1.0e-3:\n",
    "                print(i, x, \"\\t\", delta_f, relative_delta_f)\n",
    "                assert False, \"Can't verify optimum\""
   ]
  },
  {
   "cell_type": "code",
   "execution_count": 23,
   "metadata": {},
   "outputs": [],
   "source": [
    "for index, (train_indexes, _) in enumerate(cv_splits):\n",
    "    X_train = X[train_indexes, :]\n",
    "    y_train = y[train_indexes]\n",
    "    verify_log_likelihood_opt(X_train, y_train, warping_parameters[index])"
   ]
  },
  {
   "cell_type": "markdown",
   "metadata": {},
   "source": [
    "## Make Predictions"
   ]
  },
  {
   "cell_type": "code",
   "execution_count": 24,
   "metadata": {},
   "outputs": [],
   "source": [
    "def compute_prediction_dist(model, xi):\n",
    "    noise_stddev, beta, A_inv = model\n",
    "    xi = np.array(list(xi) + [1])\n",
    "    std_err = noise_stddev * np.sqrt(1 + np.dot(xi, np.dot(A_inv, xi)))\n",
    "    pred = np.dot(xi, beta)\n",
    "    return pred, std_err"
   ]
  },
  {
   "cell_type": "code",
   "execution_count": 25,
   "metadata": {},
   "outputs": [],
   "source": [
    "def compute_prediction_pdf(model, xi):\n",
    "    pred, std_err = compute_prediction_dist(model, xi)\n",
    "    @vectorizable\n",
    "    def pdf(y):\n",
    "        return norm.pdf(y, loc=pred, scale=std_err)\n",
    "    return pdf"
   ]
  },
  {
   "cell_type": "code",
   "execution_count": 26,
   "metadata": {},
   "outputs": [],
   "source": [
    "def compute_warped_prediction_pdf(model, f, fp, xi):\n",
    "    pred, std_err = compute_prediction_dist(model, xi)\n",
    "    @vectorizable\n",
    "    def pdf(y):\n",
    "        return norm.pdf(f(y), loc=pred, scale=std_err)*fp(y)\n",
    "    return pdf"
   ]
  },
  {
   "cell_type": "code",
   "execution_count": 27,
   "metadata": {},
   "outputs": [],
   "source": [
    "def fit_linear_regression_model(X, y):\n",
    "    X = np.hstack((X, np.ones((X.shape[0], 1))))\n",
    "    A = np.dot(X.T, X)\n",
    "    A_inv = np.linalg.inv(A)\n",
    "    beta = np.dot(A_inv, np.dot(X.T, y))\n",
    "    y_pred = np.dot(X, beta)\n",
    "    rss = sum((y-y_pred)**2)\n",
    "    noise_stddev = np.sqrt(rss / (X.shape[0] - X.shape[1]))\n",
    "    return noise_stddev, beta, A_inv"
   ]
  },
  {
   "cell_type": "code",
   "execution_count": 28,
   "metadata": {},
   "outputs": [],
   "source": [
    "def compute_linear_model_log_likelihood(X_train, y_train, X_test, y_test):\n",
    "    model = fit_linear_regression_model(X_train, y_train)\n",
    "    result = 0.0\n",
    "    for xi, yi in zip(X_test, y_test):\n",
    "        pred, std_err = compute_prediction_dist(model, xi)\n",
    "        result += norm.logpdf(yi, loc=pred, scale=std_err)\n",
    "    return result"
   ]
  },
  {
   "cell_type": "code",
   "execution_count": 29,
   "metadata": {},
   "outputs": [],
   "source": [
    "def compute_warped_linear_model_log_likelihood(phi, X_train, y_train,\n",
    "                                               X_test, y_test):\n",
    "    f, fp = make_warper(phi, y_train)\n",
    "    z_train = f(y_train)\n",
    "    z_test = f(y_test)\n",
    "    result = compute_linear_model_log_likelihood(X_train, z_train,\n",
    "                                                 X_test, z_test)\n",
    "    result += np.sum(np.log(fp(y_test)))\n",
    "    return result"
   ]
  },
  {
   "cell_type": "markdown",
   "metadata": {},
   "source": [
    "## Compute Cross-Validation Scores"
   ]
  },
  {
   "cell_type": "code",
   "execution_count": 33,
   "metadata": {},
   "outputs": [],
   "source": [
    "linear_cv_log_likelihoods = []\n",
    "warped_cv_log_likelihoods = []\n",
    "for index, (train_indexes, test_indexes) in enumerate(cv_splits):\n",
    "    X_train = X[train_indexes, :]\n",
    "    y_train = y[train_indexes]\n",
    "    X_test = X[test_indexes, :]\n",
    "    y_test = y[test_indexes]\n",
    "    log_likelihood1 = \\\n",
    "        compute_linear_model_log_likelihood(X_train, y_train,\n",
    "                                            X_test, y_test)\n",
    "    log_likelihood2 = \\\n",
    "        compute_warped_linear_model_log_likelihood(\n",
    "            warping_parameters[index], \n",
    "            X_train, y_train,\n",
    "            X_test, y_test)\n",
    "    linear_cv_log_likelihoods.append(log_likelihood1)\n",
    "    warped_cv_log_likelihoods.append(log_likelihood2)"
   ]
  },
  {
   "cell_type": "code",
   "execution_count": 34,
   "metadata": {},
   "outputs": [
    {
     "name": "stdout",
     "output_type": "stream",
     "text": [
      "121.789779\t191.830079\n",
      "90.113080\t220.193259\n",
      "124.935685\t205.673358\n",
      "88.630286\t163.568502\n",
      "140.672803\t224.220028\n",
      "117.322081\t202.544925\n",
      "146.148456\t207.747941\n",
      "119.894918\t197.550654\n",
      "92.969662\t197.443910\n",
      "92.397412\t192.102211\n"
     ]
    }
   ],
   "source": [
    "for log_likelihood1, log_likelihood2 in \\\n",
    "    zip(linear_cv_log_likelihoods, warped_cv_log_likelihoods):\n",
    "        print(\"%f\\t%f\" % (log_likelihood1, log_likelihood2))"
   ]
  },
  {
   "cell_type": "code",
   "execution_count": 35,
   "metadata": {},
   "outputs": [
    {
     "name": "stdout",
     "output_type": "stream",
     "text": [
      "0.569145\t1.004451\n"
     ]
    }
   ],
   "source": [
    "linear_cv_log_likelihood_avg = np.sum(linear_cv_log_likelihoods) / len(y)\n",
    "warped_cv_log_likelihood_avg = np.sum(warped_cv_log_likelihoods) / len(y)\n",
    "print(\"%f\\t%f\" % (linear_cv_log_likelihood_avg, warped_cv_log_likelihood_avg))"
   ]
  },
  {
   "cell_type": "markdown",
   "metadata": {},
   "source": [
    "## Plot Error Distribution"
   ]
  },
  {
   "cell_type": "code",
   "execution_count": 42,
   "metadata": {},
   "outputs": [],
   "source": [
    "fold = 0\n",
    "y_range = np.arange(np.min(y), np.max(y), 0.0001)\n",
    "train_indexes, test_indexes = cv_splits[fold]\n",
    "X_train = X[train_indexes, :]\n",
    "y_train = y[train_indexes]\n",
    "phi = warping_parameters[fold]\n",
    "f, fp = make_warper(phi, y_train)\n",
    "z_train = f(y_train)\n",
    "linear_model = fit_linear_regression_model(X_train, y_train)\n",
    "warped_model = fit_linear_regression_model(X_train, z_train)"
   ]
  },
  {
   "cell_type": "code",
   "execution_count": 43,
   "metadata": {},
   "outputs": [],
   "source": [
    "def plot_error_distributions(index, plot):\n",
    "    xi = X_test[index,:]\n",
    "    yi = y_test[index]\n",
    "    p1 = compute_prediction_pdf(linear_model, xi)\n",
    "    p2 = compute_warped_prediction_pdf(warped_model, f, fp, xi)\n",
    "    plot.plot(y_range, p1(y_range), label = 'OLS')\n",
    "    plot.plot(y_range, p2(y_range), label = 'WLR')\n",
    "    plot.axvline(yi, c='tab:green', label='y_test')    \n",
    "    plot.legend()"
   ]
  },
  {
   "cell_type": "code",
   "execution_count": 44,
   "metadata": {},
   "outputs": [
    {
     "data": {
      "image/png": "[encoded data removed]",
      "text/plain": [
       "<Figure size 432x288 with 4 Axes>"
      ]
     },
     "metadata": {
      "needs_background": "light"
     },
     "output_type": "display_data"
    }
   ],
   "source": [
    "nrows = 2\n",
    "ncols = 2\n",
    "indexes = np.random.choice(range(len(cv_splits[0][1])), nrows*ncols)\n",
    "fig, axes = plt.subplots(nrows=nrows, ncols=ncols)\n",
    "index = 0\n",
    "for i in range(nrows):\n",
    "    for j in range(ncols):\n",
    "        plot_error_distributions(indexes[index], axes[i, j])\n",
    "        index += 1\n",
    "fig.tight_layout()"
   ]
  },
  {
   "cell_type": "code",
   "execution_count": null,
   "metadata": {},
   "outputs": [],
   "source": []
  }
 ],
 "metadata": {
  "kernelspec": {
   "display_name": "Python 3",
   "language": "python",
   "name": "python3"
  },
  "language_info": {
   "codemirror_mode": {
    "name": "ipython",
    "version": 3
   },
   "file_extension": ".py",
   "mimetype": "text/x-python",
   "name": "python",
   "nbconvert_exporter": "python",
   "pygments_lexer": "ipython3",
   "version": "3.7.4"
  }
 },
 "nbformat": 4,
 "nbformat_minor": 2
}
