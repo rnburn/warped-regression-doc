{
 "cells": [
  {
   "cell_type": "markdown",
   "metadata": {},
   "source": [
    "# Warp a Distribution\n",
    "*This notebook demonstrates how we can warp a normal distribution*"
   ]
  },
  {
   "cell_type": "markdown",
   "metadata": {},
   "source": [
    "## Import Dependencies"
   ]
  },
  {
   "cell_type": "code",
   "execution_count": 1,
   "metadata": {},
   "outputs": [],
   "source": [
    "import matplotlib.pyplot as plt\n",
    "import numpy as np\n",
    "from sklearn.datasets import load_boston\n",
    "from scipy.stats import norm\n",
    "np.random.seed(1)"
   ]
  },
  {
   "cell_type": "markdown",
   "metadata": {},
   "source": [
    "## Decorator for Vector Functions"
   ]
  },
  {
   "cell_type": "code",
   "execution_count": 2,
   "metadata": {},
   "outputs": [],
   "source": [
    "def vectorizable(f):\n",
    "    def f_(x):\n",
    "        if hasattr(x, '__iter__'):\n",
    "            return np.array([f(xi) for xi in x])\n",
    "        return f(x)\n",
    "    return f_"
   ]
  },
  {
   "cell_type": "markdown",
   "metadata": {},
   "source": [
    "## Compute Transition Spline\n",
    "Compute a spline that smoothly transitions between two different linear functions"
   ]
  },
  {
   "cell_type": "code",
   "execution_count": 3,
   "metadata": {},
   "outputs": [],
   "source": [
    "def compute_spline(fpa, fpb, delta):\n",
    "    mid = delta / 2\n",
    "    fpmid = (fpb + fpa) / 2\n",
    "    b1 = fpa\n",
    "    d1 = (fpmid - b1)/(3*mid**2)\n",
    "    \n",
    "    def q1(x):\n",
    "        return b1*x + d1*x**3\n",
    "    def q1p(x):\n",
    "        return b1 + 3*d1*x**2\n",
    "\n",
    "    qmid = q1(mid)\n",
    "    \n",
    "    b2 = fpb\n",
    "    d2 = (fpmid - b2) / (3*mid**2)\n",
    "    a2 = qmid + b2*mid + d2*mid**3\n",
    "    \n",
    "    def q2(x):\n",
    "        return a2 + b2*(x - delta) + d2*(x - delta)**3\n",
    "    def q2p(x):\n",
    "        return b2 + 3*d2*(x - delta)**2\n",
    "    \n",
    "    def q(x):\n",
    "        if x < mid:\n",
    "            return q1(x)\n",
    "        return q2(x)\n",
    "    def qp(x):\n",
    "        if x < mid:\n",
    "            return q1p(x)\n",
    "        return q2p(x)\n",
    "    return q, qp"
   ]
  },
  {
   "cell_type": "code",
   "execution_count": 4,
   "metadata": {},
   "outputs": [
    {
     "data": {
      "text/plain": [
       "[<matplotlib.lines.Line2D at 0x7f0a926a9390>]"
      ]
     },
     "execution_count": 4,
     "metadata": {},
     "output_type": "execute_result"
    },
    {
     "data": {
      "image/png": "[encoded data removed]",
      "text/plain": [
       "<Figure size 432x288 with 1 Axes>"
      ]
     },
     "metadata": {
      "needs_background": "light"
     },
     "output_type": "display_data"
    }
   ],
   "source": [
    "q, qp = compute_spline(1, 2, 1)\n",
    "x = np.arange(0, 1, .0001)\n",
    "y = [q(xi) for xi in x]\n",
    "plt.plot(x, y)"
   ]
  },
  {
   "cell_type": "markdown",
   "metadata": {},
   "source": [
    "## Build a Warping Function\n",
    "Using the spline, construct a warping function and its derivative "
   ]
  },
  {
   "cell_type": "code",
   "execution_count": 5,
   "metadata": {},
   "outputs": [],
   "source": [
    "def make_warp(descriptor, delta=0.5):\n",
    "    slope = descriptor[0]\n",
    "    rest = descriptor[1:]\n",
    "    if not rest:\n",
    "        return lambda x: x*slope, lambda x: slope\n",
    "    z, rslope = rest[0]\n",
    "    r, rp = make_warp([rslope] + rest[1:], delta)\n",
    "    c = (rslope - slope) / (2 * delta)\n",
    "    intercept = slope*z + c*delta - r(z)\n",
    "    q, qp = compute_spline(slope, rslope, delta)\n",
    "    @vectorizable\n",
    "    def f(x):\n",
    "        if x < z - delta:\n",
    "            return slope * x\n",
    "        if x > z:\n",
    "            return r(x) + intercept\n",
    "        return q(x - (z-delta))+slope*(z - delta)\n",
    "    @vectorizable\n",
    "    def fp(x):\n",
    "        if x < z - delta:\n",
    "            return slope\n",
    "        if x > z:\n",
    "            return rp(x)\n",
    "        return qp(x - (z-delta))\n",
    "    return f, fp"
   ]
  },
  {
   "cell_type": "markdown",
   "metadata": {},
   "source": [
    "## Make Hinge Warping Functions"
   ]
  },
  {
   "cell_type": "code",
   "execution_count": 6,
   "metadata": {},
   "outputs": [],
   "source": [
    "def make_hinge(slope):\n",
    "    return make_warp([1, (1, slope)], 1)"
   ]
  },
  {
   "cell_type": "code",
   "execution_count": 7,
   "metadata": {},
   "outputs": [],
   "source": [
    "slopes = [2.0, 1.0, 0.5]"
   ]
  },
  {
   "cell_type": "code",
   "execution_count": 8,
   "metadata": {},
   "outputs": [
    {
     "data": {
      "image/png": "[encoded data removed]",
      "text/plain": [
       "<Figure size 432x288 with 1 Axes>"
      ]
     },
     "metadata": {
      "needs_background": "light"
     },
     "output_type": "display_data"
    }
   ],
   "source": [
    "x = np.arange(-3, 3, 0.0001)\n",
    "colors = ['g', 'b', 'r']\n",
    "fig, ax = plt.subplots()\n",
    "ax.plot(x, [xi if xi < 0 else None for xi in x], c='b', label='')\n",
    "for i, slope in enumerate(slopes):\n",
    "    f, _ = make_hinge(slope)\n",
    "    y = [f(xi) if xi > 0 else None for xi in x]\n",
    "    ax.plot(x, y, linestyle='dashed', c=colors[i], label='c = %0.1f' % slope)\n",
    "ax.legend(loc='upper left')\n",
    "plt.show()"
   ]
  },
  {
   "cell_type": "markdown",
   "metadata": {},
   "source": [
    "## Plot Hinge Distributions"
   ]
  },
  {
   "cell_type": "code",
   "execution_count": 9,
   "metadata": {},
   "outputs": [
    {
     "data": {
      "image/png": "[encoded data removed]",
      "text/plain": [
       "<Figure size 432x288 with 1 Axes>"
      ]
     },
     "metadata": {
      "needs_background": "light"
     },
     "output_type": "display_data"
    }
   ],
   "source": [
    "x = np.arange(-5, 5, 0.0001)\n",
    "colors = ['g', 'b', 'r']\n",
    "fig, ax = plt.subplots()\n",
    "ax.plot(x, [norm.pdf(xi) if xi < 0 else None for xi in x], c='b', label='')\n",
    "for i, slope in enumerate(slopes):\n",
    "    f, fp = make_hinge(slope)\n",
    "    y = [norm.pdf(f(xi))*fp(xi) if xi > 0 else None for xi in x]\n",
    "    ax.plot(x, y, linestyle='dashed', c=colors[i], label='c = %0.1f' % slope)\n",
    "ax.legend(loc='upper left')\n",
    "plt.show()"
   ]
  },
  {
   "cell_type": "code",
   "execution_count": null,
   "metadata": {},
   "outputs": [],
   "source": []
  }
 ],
 "metadata": {
  "kernelspec": {
   "display_name": "Python 3",
   "language": "python",
   "name": "python3"
  },
  "language_info": {
   "codemirror_mode": {
    "name": "ipython",
    "version": 3
   },
   "file_extension": ".py",
   "mimetype": "text/x-python",
   "name": "python",
   "nbconvert_exporter": "python",
   "pygments_lexer": "ipython3",
   "version": "3.7.3"
  }
 },
 "nbformat": 4,
 "nbformat_minor": 4
}
